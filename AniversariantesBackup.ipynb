{
 "cells": [
  {
   "cell_type": "code",
   "execution_count": 256,
   "metadata": {},
   "outputs": [],
   "source": [
    "import requests\n",
    "import json\n",
    "import io\n",
    "import os\n",
    "from datetime import date, datetime\n",
    "import configparser\n",
    "\n",
    "import googleapiclient.discovery\n",
    "from googleapiclient.http import MediaFileUpload, MediaIoBaseDownload\n",
    "from google.oauth2 import service_account"
   ]
  },
  {
   "cell_type": "code",
   "execution_count": 257,
   "metadata": {},
   "outputs": [],
   "source": [
    "def get_local_filename(filename):\n",
    "    try:\n",
    "        return os.path.join(os.path.dirname(__file__), filename)\n",
    "    except:\n",
    "        return filename"
   ]
  },
  {
   "cell_type": "code",
   "execution_count": 258,
   "metadata": {},
   "outputs": [
    {
     "data": {
      "text/plain": [
       "['config.ini']"
      ]
     },
     "execution_count": 258,
     "metadata": {},
     "output_type": "execute_result"
    }
   ],
   "source": [
    "config = configparser.ConfigParser()\n",
    "config.read(get_local_filename('config.ini'))"
   ]
  },
  {
   "cell_type": "code",
   "execution_count": 259,
   "metadata": {},
   "outputs": [],
   "source": [
    "PROJECT = config['VARS']['PROJECT']\n",
    "DB_API_KEY = config['VARS']['DB_API_KEY']\n",
    "DB_PASSWORD = config['VARS']['DB_PASSWORD']\n",
    "EMAIL = config['VARS']['EMAIL']"
   ]
  },
  {
   "cell_type": "code",
   "execution_count": 260,
   "metadata": {},
   "outputs": [],
   "source": [
    "authUrl = f'https://identitytoolkit.googleapis.com/v1/accounts:signInWithPassword?key={DB_API_KEY}'\n",
    "\n",
    "authData = {\n",
    "    'email': EMAIL,\n",
    "    'password': DB_PASSWORD,\n",
    "    'returnSecureToken': True,\n",
    "};\n",
    "\n",
    "resp = requests.post(authUrl, data=json.dumps(authData))\n",
    "if resp.status_code != 200:\n",
    "    # This means something went wrong.\n",
    "    raise BaseException('GET /tasks/ {}'.format(resp.status_code))\n",
    "    \n",
    "id_token = resp.json()['idToken']"
   ]
  },
  {
   "cell_type": "code",
   "execution_count": 261,
   "metadata": {},
   "outputs": [],
   "source": [
    "headers = {'Authorization': f'Bearer {id_token}'}"
   ]
  },
  {
   "cell_type": "code",
   "execution_count": 262,
   "metadata": {},
   "outputs": [],
   "source": [
    "urlGet = f'https://firestore.googleapis.com/v1/projects/{PROJECT}/databases/(default)/documents/familias/'\n",
    "\n",
    "resp = requests.get(urlGet, headers=headers)\n",
    "if resp.status_code != 200:\n",
    "    raise BaseException('GET /tasks/ {}'.format(resp.status_code))"
   ]
  },
  {
   "cell_type": "code",
   "execution_count": 263,
   "metadata": {},
   "outputs": [],
   "source": [
    "id_familias = []\n",
    "json_familias = resp.json()\n",
    "for item in json_familias['documents']:\n",
    "    id_familia = item['name'].split('/')[-1]\n",
    "    id_familias.append(id_familia)"
   ]
  },
  {
   "cell_type": "code",
   "execution_count": 264,
   "metadata": {},
   "outputs": [],
   "source": [
    "json_aniversariantes = {}\n",
    "for id_familia in id_familias:\n",
    "    urlGet = f'https://firestore.googleapis.com/v1/projects/{PROJECT}/databases/(default)/documents/familias/' + \\\n",
    "            f'{id_familia}/aniversariantes?pageSize=200'\n",
    "\n",
    "    resp = requests.get(urlGet, headers=headers)\n",
    "    if resp.status_code != 200:\n",
    "        raise BaseException('GET /tasks/ {}'.format(resp.status_code))\n",
    "        \n",
    "    json_aniversariantes[id_familia] = resp.json()"
   ]
  },
  {
   "cell_type": "code",
   "execution_count": 265,
   "metadata": {},
   "outputs": [],
   "source": [
    "SCOPES = ['https://www.googleapis.com/auth/drive']\n",
    "SERVICE_ACCOUNT_FILE = get_local_filename('client_secret.json')\n",
    "\n",
    "credentials = service_account.Credentials.from_service_account_file(\n",
    "        SERVICE_ACCOUNT_FILE, scopes=SCOPES)"
   ]
  },
  {
   "cell_type": "code",
   "execution_count": 266,
   "metadata": {},
   "outputs": [],
   "source": [
    "drive = googleapiclient.discovery.build('drive', 'v3', credentials=credentials)"
   ]
  },
  {
   "cell_type": "code",
   "execution_count": 267,
   "metadata": {},
   "outputs": [],
   "source": [
    "pasta_id = '1TKvoksD6TF6xV4h6NMg0rrLyYdqZBpSC'"
   ]
  },
  {
   "cell_type": "code",
   "execution_count": 268,
   "metadata": {},
   "outputs": [],
   "source": [
    "query = f\"'{pasta_id}' in parents\"\n",
    "res = drive.files().list(q=query, fields=\"files(id, name)\").execute()"
   ]
  },
  {
   "cell_type": "code",
   "execution_count": 269,
   "metadata": {},
   "outputs": [],
   "source": [
    "def get_data(arquivo_nome):\n",
    "    dt_txt = arquivo_nome.split('_')[1].split('.')[0]\n",
    "    dt = datetime.strptime(dt_txt, '%d-%m-%Y')\n",
    "    \n",
    "    return dt"
   ]
  },
  {
   "cell_type": "code",
   "execution_count": 270,
   "metadata": {},
   "outputs": [],
   "source": [
    "familias_backups = {}\n",
    "aniversariantes_backups = {}\n",
    "\n",
    "arquivos = res.get('files', [])\n",
    "for arquivo in arquivos:\n",
    "    if arquivo['name'].startswith('familia'):\n",
    "        familias_backups[arquivo['id']] = get_data(arquivo['name'])\n",
    "    else:\n",
    "        aniversariantes_backups[arquivo['id']] = get_data(arquivo['name'])"
   ]
  },
  {
   "cell_type": "code",
   "execution_count": 271,
   "metadata": {},
   "outputs": [],
   "source": [
    "def download_last_backup(backups, filename):\n",
    "    file_id = [k for k, v in sorted(backups.items(), key=lambda item: item[1])][-1]\n",
    "    \n",
    "    print(f'Último backup de {filename}: {backups[file_id]}')\n",
    "    \n",
    "    request = drive.files().get_media(fileId=file_id)\n",
    "    fh = io.FileIO(get_local_filename(filename), mode='wb')\n",
    "    downloader = MediaIoBaseDownload(fh, request)\n",
    "    done = False\n",
    "    while done is False:\n",
    "        status, done = downloader.next_chunk()\n",
    "        print(\"Download %d%%.\" % int(status.progress() * 100))"
   ]
  },
  {
   "cell_type": "code",
   "execution_count": 272,
   "metadata": {},
   "outputs": [],
   "source": [
    "def arquivo_upload(filename):\n",
    "    file_metadata = {\n",
    "        'name': filename,\n",
    "        'mimeType': 'application/json',\n",
    "        'parents': [pasta_id]\n",
    "    }\n",
    "    media = MediaFileUpload(get_local_filename(filename), mimetype='application/json')\n",
    "\n",
    "    file = drive.files().create(body=file_metadata, media_body=media, fields='id').execute()\n",
    "    \n",
    "    print(f'Upload de arquivo realizado: {filename}')"
   ]
  },
  {
   "cell_type": "code",
   "execution_count": 273,
   "metadata": {},
   "outputs": [
    {
     "name": "stdout",
     "output_type": "stream",
     "text": [
      "Último backup de familias.json: 2020-07-29 00:00:00\n",
      "Download 100%.\n",
      "Último backup de aniversariantes.json: 2020-07-29 00:00:00\n",
      "Download 100%.\n"
     ]
    }
   ],
   "source": [
    "familias_file_name = 'familias.json'\n",
    "aniversariantes_file_name = 'aniversariantes.json'\n",
    "\n",
    "download_last_backup(familias_backups, familias_file_name)\n",
    "download_last_backup(aniversariantes_backups, aniversariantes_file_name)"
   ]
  },
  {
   "cell_type": "code",
   "execution_count": 274,
   "metadata": {},
   "outputs": [],
   "source": [
    "data_atual = date.today().strftime(\"%d-%m-%Y\")"
   ]
  },
  {
   "cell_type": "code",
   "execution_count": 275,
   "metadata": {},
   "outputs": [],
   "source": [
    "familias_ultimo_backup = {}\n",
    "\n",
    "with open(get_local_filename(familias_file_name)) as json_file:\n",
    "    familias_ultimo_backup = json.load(json_file)"
   ]
  },
  {
   "cell_type": "code",
   "execution_count": 276,
   "metadata": {},
   "outputs": [],
   "source": [
    "aniversariantes_ultimo_backup = {}\n",
    "\n",
    "with open(get_local_filename(aniversariantes_file_name)) as json_file:\n",
    "    aniversariantes_ultimo_backup = json.load(json_file)"
   ]
  },
  {
   "cell_type": "code",
   "execution_count": 277,
   "metadata": {},
   "outputs": [],
   "source": [
    "if json_familias != familias_ultimo_backup:\n",
    "\n",
    "    filename = f'familias_{data_atual}.json'\n",
    "    with open(get_local_filename(filename), 'w') as outfile:\n",
    "        json.dump(json_familias, outfile)\n",
    "        print(f'Backup de famílias gerado: {filename}')\n",
    "    \n",
    "    arquivo_upload(filename)"
   ]
  },
  {
   "cell_type": "code",
   "execution_count": 278,
   "metadata": {},
   "outputs": [],
   "source": [
    "if json_aniversariantes != aniversariantes_ultimo_backup:\n",
    "    \n",
    "    filename = f'aniversariantes_{data_atual}.json'\n",
    "    with open(get_local_filename(filename), 'w') as outfile:\n",
    "        json.dump(json_aniversariantes, outfile)\n",
    "        print(f'Backup de aniversariantes gerado: {filename}')\n",
    "        \n",
    "    arquivo_upload(filename)"
   ]
  }
 ],
 "metadata": {
  "kernelspec": {
   "display_name": "Python 3",
   "language": "python",
   "name": "python3"
  },
  "language_info": {
   "codemirror_mode": {
    "name": "ipython",
    "version": 3
   },
   "file_extension": ".py",
   "mimetype": "text/x-python",
   "name": "python",
   "nbconvert_exporter": "python",
   "pygments_lexer": "ipython3",
   "version": "3.8.4"
  }
 },
 "nbformat": 4,
 "nbformat_minor": 4
}
