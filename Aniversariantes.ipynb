{
 "cells": [
  {
   "cell_type": "code",
   "execution_count": 76,
   "metadata": {},
   "outputs": [],
   "source": [
    "import pandas as pd\n",
    "import numpy as np\n",
    "import requests\n",
    "import json\n",
    "from datetime import date\n",
    "import configparser"
   ]
  },
  {
   "cell_type": "code",
   "execution_count": 8,
   "metadata": {},
   "outputs": [
    {
     "data": {
      "text/plain": [
       "['config.ini']"
      ]
     },
     "execution_count": 8,
     "metadata": {},
     "output_type": "execute_result"
    }
   ],
   "source": [
    "config = configparser.ConfigParser()\n",
    "config.read('config.ini')"
   ]
  },
  {
   "cell_type": "code",
   "execution_count": 10,
   "metadata": {},
   "outputs": [],
   "source": [
    "# ENV = 'PROD'\n",
    "ENV = 'DEV'\n",
    "\n",
    "# familia = 'ooQKFaqwblGMPNq0AUML'\n",
    "PROJECT = config[ENV]['PROJECT']\n",
    "DB_API_KEY = config[ENV]['DB_API_KEY']\n",
    "DB_PASSWORD = config[ENV]['DB_PASSWORD']\n",
    "EMAIL = config[ENV]['EMAIL']"
   ]
  },
  {
   "cell_type": "code",
   "execution_count": 11,
   "metadata": {},
   "outputs": [],
   "source": [
    "# Get the token\n",
    "authUrl = f'https://identitytoolkit.googleapis.com/v1/accounts:signInWithPassword?key={DB_API_KEY}'\n",
    "\n",
    "authData = {\n",
    "    'email': EMAIL,\n",
    "    'password': DB_PASSWORD,\n",
    "    'returnSecureToken': True,\n",
    "};\n",
    "\n",
    "resp = requests.post(authUrl, data=json.dumps(authData))\n",
    "if resp.status_code != 200:\n",
    "    # This means something went wrong.\n",
    "    raise BaseException('GET /tasks/ {}'.format(resp.status_code))\n",
    "    \n",
    "id_token = resp.json()['idToken']"
   ]
  },
  {
   "cell_type": "code",
   "execution_count": 13,
   "metadata": {},
   "outputs": [],
   "source": [
    "# print(id_token)"
   ]
  },
  {
   "cell_type": "code",
   "execution_count": 21,
   "metadata": {},
   "outputs": [],
   "source": [
    "headers = {'Authorization': f'Bearer {id_token}'}"
   ]
  },
  {
   "cell_type": "code",
   "execution_count": 14,
   "metadata": {},
   "outputs": [],
   "source": [
    "# Vai getando\n",
    "urlGet = f'https://firestore.googleapis.com/v1/projects/{PROJECT}/databases/(default)/documents/familias/'\n",
    "\n",
    "resp = requests.get(urlGet, headers=headers)\n",
    "if resp.status_code != 200:\n",
    "    # This means something went wrong.\n",
    "    raise BaseException('GET /tasks/ {}'.format(resp.status_code))"
   ]
  },
  {
   "cell_type": "code",
   "execution_count": 18,
   "metadata": {},
   "outputs": [],
   "source": [
    "id_familias = []\n",
    "json_familias = {}\n",
    "for item in resp.json()['documents']:\n",
    "    id_familia = item['name'].split('/')[-1]\n",
    "    id_familias.append(id_familia)\n",
    "    json_familias[id_familia] = {}\n",
    "    \n",
    "#     print('id da família: ', item['name'].split('/')[-1])\n",
    "    \n",
    "    for field in item:\n",
    "        json_familias[id_familia][field] = item[field]\n",
    "#         print(field, '->', item[field])"
   ]
  },
  {
   "cell_type": "code",
   "execution_count": 19,
   "metadata": {},
   "outputs": [],
   "source": [
    "# print(id_familias)\n",
    "# print(json_familias)"
   ]
  },
  {
   "cell_type": "code",
   "execution_count": 37,
   "metadata": {},
   "outputs": [],
   "source": [
    "resps = {}\n",
    "for id_familia in id_familias:\n",
    "    urlGet = f'https://firestore.googleapis.com/v1/projects/{PROJECT}/databases/(default)/documents/familias/' + \\\n",
    "            f'{id_familia}/aniversariantes?pageSize=200'\n",
    "\n",
    "    resp = requests.get(urlGet, headers=headers)\n",
    "    \n",
    "    if resp.status_code != 200:\n",
    "        # This means something went wrong.\n",
    "        raise BaseException('GET /tasks/ {}'.format(resp.status_code))\n",
    "        \n",
    "    resps[id_familia] = resp.json()['documents']"
   ]
  },
  {
   "cell_type": "code",
   "execution_count": 55,
   "metadata": {},
   "outputs": [],
   "source": [
    "json_aniversariantes = {}\n",
    "for id_familia, aniversariantes in resps.items():\n",
    "    json_aniversariantes[id_familia] = {}\n",
    "    \n",
    "#     print(id_familia)\n",
    "    \n",
    "    for aniversariante in aniversariantes:\n",
    "        id_aniversariante = aniversariante['name'].split('/')[-1]\n",
    "        json_aniversariantes[id_familia][id_aniversariante] = aniversariante\n",
    "        \n",
    "#         print(id_aniversariante)\n",
    "        \n",
    "#         for field in aniversariante:\n",
    "#             print(field, '->', aniversariante[field])"
   ]
  },
  {
   "cell_type": "code",
   "execution_count": 77,
   "metadata": {},
   "outputs": [],
   "source": [
    "# print(json.dumps(json_aniversariantes, indent=2))"
   ]
  },
  {
   "cell_type": "code",
   "execution_count": 94,
   "metadata": {},
   "outputs": [],
   "source": [
    "familias_ultimo_arquivo = 'familias_28-07-2020.json'\n",
    "\n",
    "familias_ultimo_backup = {}\n",
    "\n",
    "if familias_ultimo_arquivo:\n",
    "    with open(familias_ultimo_arquivo) as json_file:\n",
    "        familias_ultimo_backup = json.load(json_file)\n",
    "    #     print(json.dumps(dados, indent=2))"
   ]
  },
  {
   "cell_type": "code",
   "execution_count": 95,
   "metadata": {},
   "outputs": [],
   "source": [
    "aniversariantes_ultimo_arquivo = 'aniversariantes_28-07-2020.json'\n",
    "\n",
    "aniversariantes_ultimo_backup = {}\n",
    "\n",
    "if aniversariantes_ultimo_arquivo:\n",
    "    with open(aniversariantes_ultimo_arquivo) as json_file:\n",
    "        aniversariantes_ultimo_backup = json.load(json_file)\n",
    "    #     print(json.dumps(dados, indent=2))"
   ]
  },
  {
   "cell_type": "code",
   "execution_count": 97,
   "metadata": {},
   "outputs": [],
   "source": [
    "if json_familias != familias_ultimo_backup:\n",
    "\n",
    "    filename = f'familias_{data_atual}.json'\n",
    "    with open(filename, 'w') as outfile:\n",
    "        json.dump(json_familias, outfile)\n",
    "        print('Backup de famílias gerado')"
   ]
  },
  {
   "cell_type": "code",
   "execution_count": 98,
   "metadata": {},
   "outputs": [],
   "source": [
    "if json_aniversariantes != aniversariantes_ultimo_backup:\n",
    "    \n",
    "    filename = f'aniversariantes_{data_atual}.json'\n",
    "    with open(filename, 'w') as outfile:\n",
    "        json.dump(json_aniversariantes, outfile)\n",
    "        print('Backup de aniversariantes gerado')"
   ]
  },
  {
   "cell_type": "code",
   "execution_count": null,
   "metadata": {},
   "outputs": [],
   "source": []
  }
 ],
 "metadata": {
  "kernelspec": {
   "display_name": "Python 3",
   "language": "python",
   "name": "python3"
  },
  "language_info": {
   "codemirror_mode": {
    "name": "ipython",
    "version": 3
   },
   "file_extension": ".py",
   "mimetype": "text/x-python",
   "name": "python",
   "nbconvert_exporter": "python",
   "pygments_lexer": "ipython3",
   "version": "3.8.4"
  }
 },
 "nbformat": 4,
 "nbformat_minor": 4
}
